{
 "cells": [
  {
   "cell_type": "markdown",
   "metadata": {},
   "source": [
    "#### Importing Libraries"
   ]
  },
  {
   "cell_type": "code",
   "execution_count": 1,
   "metadata": {},
   "outputs": [],
   "source": [
    "import pandas as pd\n",
    "import numpy as np\n",
    "import matplotlib.pyplot as plt\n",
    "from sklearn.preprocessing import MinMaxScaler\n",
    "from tensorflow.keras.layers import Dropout, LSTM, Dense\n",
    "from tensorflow.keras.models import Sequential"
   ]
  },
  {
   "cell_type": "markdown",
   "metadata": {},
   "source": [
    "#### Reading dataset"
   ]
  },
  {
   "cell_type": "code",
   "execution_count": 2,
   "metadata": {},
   "outputs": [
    {
     "data": {
      "text/html": [
       "<div>\n",
       "<style scoped>\n",
       "    .dataframe tbody tr th:only-of-type {\n",
       "        vertical-align: middle;\n",
       "    }\n",
       "\n",
       "    .dataframe tbody tr th {\n",
       "        vertical-align: top;\n",
       "    }\n",
       "\n",
       "    .dataframe thead th {\n",
       "        text-align: right;\n",
       "    }\n",
       "</style>\n",
       "<table border=\"1\" class=\"dataframe\">\n",
       "  <thead>\n",
       "    <tr style=\"text-align: right;\">\n",
       "      <th></th>\n",
       "      <th>Date</th>\n",
       "      <th>Open</th>\n",
       "      <th>High</th>\n",
       "      <th>Low</th>\n",
       "      <th>Close</th>\n",
       "      <th>Volume</th>\n",
       "    </tr>\n",
       "  </thead>\n",
       "  <tbody>\n",
       "    <tr>\n",
       "      <th>0</th>\n",
       "      <td>12-05-17</td>\n",
       "      <td>995.94</td>\n",
       "      <td>1020.61</td>\n",
       "      <td>988.28</td>\n",
       "      <td>1005.15</td>\n",
       "      <td>2067318.0</td>\n",
       "    </tr>\n",
       "    <tr>\n",
       "      <th>1</th>\n",
       "      <td>12-04-17</td>\n",
       "      <td>1012.66</td>\n",
       "      <td>1016.10</td>\n",
       "      <td>995.57</td>\n",
       "      <td>998.68</td>\n",
       "      <td>1906439.0</td>\n",
       "    </tr>\n",
       "    <tr>\n",
       "      <th>2</th>\n",
       "      <td>12-01-17</td>\n",
       "      <td>1015.80</td>\n",
       "      <td>1022.49</td>\n",
       "      <td>1002.02</td>\n",
       "      <td>1010.17</td>\n",
       "      <td>1909566.0</td>\n",
       "    </tr>\n",
       "    <tr>\n",
       "      <th>3</th>\n",
       "      <td>11/30/17</td>\n",
       "      <td>1022.37</td>\n",
       "      <td>1028.49</td>\n",
       "      <td>1015.00</td>\n",
       "      <td>1021.41</td>\n",
       "      <td>1724031.0</td>\n",
       "    </tr>\n",
       "    <tr>\n",
       "      <th>4</th>\n",
       "      <td>11/29/17</td>\n",
       "      <td>1042.68</td>\n",
       "      <td>1044.08</td>\n",
       "      <td>1015.65</td>\n",
       "      <td>1021.66</td>\n",
       "      <td>2459426.0</td>\n",
       "    </tr>\n",
       "  </tbody>\n",
       "</table>\n",
       "</div>"
      ],
      "text/plain": [
       "       Date     Open     High      Low    Close     Volume\n",
       "0  12-05-17   995.94  1020.61   988.28  1005.15  2067318.0\n",
       "1  12-04-17  1012.66  1016.10   995.57   998.68  1906439.0\n",
       "2  12-01-17  1015.80  1022.49  1002.02  1010.17  1909566.0\n",
       "3  11/30/17  1022.37  1028.49  1015.00  1021.41  1724031.0\n",
       "4  11/29/17  1042.68  1044.08  1015.65  1021.66  2459426.0"
      ]
     },
     "execution_count": 2,
     "metadata": {},
     "output_type": "execute_result"
    }
   ],
   "source": [
    "dataset = pd.read_csv('HistoricalPrices.csv')\n",
    "dataset.head()"
   ]
  },
  {
   "cell_type": "markdown",
   "metadata": {},
   "source": [
    "### Preprocessing and Feature Extraction"
   ]
  },
  {
   "cell_type": "code",
   "execution_count": 3,
   "metadata": {},
   "outputs": [],
   "source": [
    "dataset = dataset['Open'].values"
   ]
  },
  {
   "cell_type": "markdown",
   "metadata": {},
   "source": [
    "#### Splitting dataset"
   ]
  },
  {
   "cell_type": "code",
   "execution_count": 4,
   "metadata": {},
   "outputs": [],
   "source": [
    "dataset = dataset.reshape(-1, 1)\n",
    "dataset_train = np.array(dataset[:int(dataset.shape[0]*0.8)])\n",
    "dataset_test = np.array(dataset[int(dataset_train.shape[0])-50:])"
   ]
  },
  {
   "cell_type": "markdown",
   "metadata": {},
   "source": [
    "#### Shrinking data range betw 0 to 1"
   ]
  },
  {
   "cell_type": "code",
   "execution_count": 5,
   "metadata": {},
   "outputs": [],
   "source": [
    "scaler = MinMaxScaler(feature_range=(0,1))\n",
    "dataset_train = scaler.fit_transform(dataset_train)\n",
    "dataset_test = scaler.fit_transform(dataset_test)"
   ]
  },
  {
   "cell_type": "markdown",
   "metadata": {
    "scrolled": true
   },
   "source": [
    "#### Creating timesteps for LSTM \n",
    "Assume x contain every next 50 values from dataset and 51st be its prediction for next day in y"
   ]
  },
  {
   "cell_type": "code",
   "execution_count": 6,
   "metadata": {},
   "outputs": [],
   "source": [
    "def create_timestep(dataset):\n",
    "    daily_val = []\n",
    "    nextday_val = []\n",
    "    for i in range(50, len(dataset)):\n",
    "        daily_val.append(dataset[i-50:i, 0])\n",
    "        nextday_val.append(dataset[i, 0])\n",
    "    daily_val = np.array(daily_val)\n",
    "    nextday_val = np.array(nextday_val)\n",
    "    return daily_val, nextday_val"
   ]
  },
  {
   "cell_type": "code",
   "execution_count": 7,
   "metadata": {},
   "outputs": [],
   "source": [
    "X_train, y_train = create_timestep(dataset_train)\n",
    "X_test, y_test = create_timestep(dataset_test)"
   ]
  },
  {
   "cell_type": "markdown",
   "metadata": {},
   "source": [
    "#### Reshaping features "
   ]
  },
  {
   "cell_type": "code",
   "execution_count": 8,
   "metadata": {},
   "outputs": [],
   "source": [
    "X_train = np.reshape(X_train, (X_train.shape[0], X_train.shape[1], 1))\n",
    "X_test = np.reshape(X_test, (X_test.shape[0], X_test.shape[1], 1))"
   ]
  },
  {
   "cell_type": "markdown",
   "metadata": {},
   "source": [
    "#### Training model using LSTM"
   ]
  },
  {
   "cell_type": "code",
   "execution_count": 9,
   "metadata": {},
   "outputs": [],
   "source": [
    "model = Sequential()\n",
    "model.add(LSTM(units=115, return_sequences=True, input_shape=(X_train.shape[1], 1))) # no of timesteps & feature\n",
    "model.add(Dropout(0.3))\n",
    "model.add(LSTM(units=115, return_sequences=True))\n",
    "model.add(Dropout(0.2))\n",
    "model.add(LSTM(units=115, return_sequences=True))\n",
    "model.add(Dropout(0.2))\n",
    "model.add(LSTM(units=115))\n",
    "model.add(Dropout(0.2))\n",
    "model.add(Dense(units=1))   # for output\n",
    "model.compile(loss='mean_squared_error', optimizer='adam') # compiling"
   ]
  },
  {
   "cell_type": "code",
   "execution_count": 10,
   "metadata": {},
   "outputs": [
    {
     "name": "stdout",
     "output_type": "stream",
     "text": [
      "Epoch 1/20\n",
      "692/692 [==============================] - 8s 12ms/sample - loss: 0.0650\n",
      "Epoch 2/20\n",
      "692/692 [==============================] - 6s 8ms/sample - loss: 0.0141\n",
      "Epoch 3/20\n",
      "692/692 [==============================] - 6s 8ms/sample - loss: 0.0079\n",
      "Epoch 4/20\n",
      "692/692 [==============================] - 6s 8ms/sample - loss: 0.0052\n",
      "Epoch 5/20\n",
      "692/692 [==============================] - 6s 8ms/sample - loss: 0.0051\n",
      "Epoch 6/20\n",
      "692/692 [==============================] - 6s 8ms/sample - loss: 0.0041\n",
      "Epoch 7/20\n",
      "692/692 [==============================] - 6s 8ms/sample - loss: 0.0038\n",
      "Epoch 8/20\n",
      "692/692 [==============================] - 6s 8ms/sample - loss: 0.0036\n",
      "Epoch 9/20\n",
      "692/692 [==============================] - 6s 9ms/sample - loss: 0.0035\n",
      "Epoch 10/20\n",
      "692/692 [==============================] - 6s 8ms/sample - loss: 0.0039\n",
      "Epoch 11/20\n",
      "692/692 [==============================] - 6s 8ms/sample - loss: 0.0034\n",
      "Epoch 12/20\n",
      "692/692 [==============================] - 6s 8ms/sample - loss: 0.0038\n",
      "Epoch 13/20\n",
      "692/692 [==============================] - 6s 8ms/sample - loss: 0.0035\n",
      "Epoch 14/20\n",
      "692/692 [==============================] - 6s 8ms/sample - loss: 0.0034\n",
      "Epoch 15/20\n",
      "692/692 [==============================] - 6s 8ms/sample - loss: 0.0035\n",
      "Epoch 16/20\n",
      "692/692 [==============================] - 6s 9ms/sample - loss: 0.0033\n",
      "Epoch 17/20\n",
      "692/692 [==============================] - 6s 9ms/sample - loss: 0.0034\n",
      "Epoch 18/20\n",
      "692/692 [==============================] - 6s 9ms/sample - loss: 0.0030\n",
      "Epoch 19/20\n",
      "692/692 [==============================] - 6s 9ms/sample - loss: 0.0033\n",
      "Epoch 20/20\n",
      "692/692 [==============================] - 6s 9ms/sample - loss: 0.0032\n"
     ]
    },
    {
     "data": {
      "text/plain": [
       "<tensorflow.python.keras.callbacks.History at 0x1df5b7620b8>"
      ]
     },
     "execution_count": 10,
     "metadata": {},
     "output_type": "execute_result"
    }
   ],
   "source": [
    "model.fit(X_train, y_train, epochs=20, verbose=1, batch_size=70)"
   ]
  },
  {
   "cell_type": "markdown",
   "metadata": {},
   "source": [
    "#### Predictions"
   ]
  },
  {
   "cell_type": "code",
   "execution_count": 12,
   "metadata": {},
   "outputs": [],
   "source": [
    "predictions = model.predict(X_test)\n",
    "predictions = scaler.inverse_transform(predictions)\n",
    "y_test_ = scaler.inverse_transform(y_test.reshape(-1, 1))"
   ]
  },
  {
   "cell_type": "markdown",
   "metadata": {},
   "source": [
    "#### Visualizing Results"
   ]
  },
  {
   "cell_type": "code",
   "execution_count": 15,
   "metadata": {
    "scrolled": true
   },
   "outputs": [
    {
     "data": {
      "text/plain": [
       "<matplotlib.legend.Legend at 0x155451ab518>"
      ]
     },
     "execution_count": 15,
     "metadata": {},
     "output_type": "execute_result"
    },
    {
     "data": {
      "image/png": "[encoded data removed]",
      "text/plain": [
       "<Figure size 576x288 with 1 Axes>"
      ]
     },
     "metadata": {
      "needs_background": "light"
     },
     "output_type": "display_data"
    }
   ],
   "source": [
    "fig, ax = plt.subplots(figsize=(9,5))\n",
    "plt.plot(dataset, label=\"Actual Value\")\n",
    "ax.plot(range(len(y_train)+50,len(y_train)+50+len(predictions)),predictions, label='Predictions')\n",
    "plt.legend()"
   ]
  },
  {
   "cell_type": "code",
   "execution_count": 16,
   "metadata": {
    "scrolled": true
   },
   "outputs": [
    {
     "data": {
      "text/plain": [
       "<matplotlib.legend.Legend at 0x1554522b828>"
      ]
     },
     "execution_count": 16,
     "metadata": {},
     "output_type": "execute_result"
    },
    {
     "data": {
      "image/png": "[encoded data removed]",
      "text/plain": [
       "<Figure size 576x288 with 1 Axes>"
      ]
     },
     "metadata": {
      "needs_background": "light"
     },
     "output_type": "display_data"
    }
   ],
   "source": [
    "fig, ax = plt.subplots(figsize=(9,5))\n",
    "ax.plot(y_test_, label='Actual Value')\n",
    "plt.plot(predictions, label='Predicted Value')\n",
    "plt.legend()"
   ]
  }
 ],
 "metadata": {
  "kernelspec": {
   "display_name": "Python 3",
   "language": "python",
   "name": "python3"
  },
  "language_info": {
   "codemirror_mode": {
    "name": "ipython",
    "version": 3
   },
   "file_extension": ".py",
   "mimetype": "text/x-python",
   "name": "python",
   "nbconvert_exporter": "python",
   "pygments_lexer": "ipython3",
   "version": "3.7.3"
  },
  "toc": {
   "base_numbering": 1,
   "nav_menu": {},
   "number_sections": true,
   "sideBar": true,
   "skip_h1_title": false,
   "title_cell": "Table of Contents",
   "title_sidebar": "Contents",
   "toc_cell": false,
   "toc_position": {},
   "toc_section_display": true,
   "toc_window_display": false
  }
 },
 "nbformat": 4,
 "nbformat_minor": 2
}
